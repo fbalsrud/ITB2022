{
  "nbformat": 4,
  "nbformat_minor": 0,
  "metadata": {
    "colab": {
      "provenance": [],
      "toc_visible": true,
      "include_colab_link": true
    },
    "kernelspec": {
      "name": "python3",
      "display_name": "Python 3"
    },
    "language_info": {
      "name": "python"
    }
  },
  "cells": [
    {
      "cell_type": "markdown",
      "metadata": {
        "id": "view-in-github",
        "colab_type": "text"
      },
      "source": [
        "<a href=\"https://colab.research.google.com/github/fbalsrud/ITB2022/blob/main/%EA%B1%B4%EA%B0%95%EA%B2%80%EC%A7%84_%EB%B6%84%EB%A5%98.ipynb\" target=\"_parent\"><img src=\"https://colab.research.google.com/assets/colab-badge.svg\" alt=\"Open In Colab\"/></a>"
      ]
    },
    {
      "cell_type": "markdown",
      "source": [
        "#**주제: 혈청크레아티닌 수치 정상/비정상 분류**\n",
        "\n",
        " * 가입자일련번호 : 해당 가입자에 부여한 일련번호\n",
        " * 혈청크레아티닌 정상/비정상 : 타겟 변수 (2개의 class)\n",
        "    * 0 (정상)\n",
        "    * 1 (비정상)\n"
      ],
      "metadata": {
        "id": "qp-DzYv4W-p2"
      }
    },
    {
      "cell_type": "code",
      "execution_count": null,
      "metadata": {
        "colab": {
          "base_uri": "https://localhost:8080/"
        },
        "id": "4nMnB5AbW3PY",
        "outputId": "93e92a82-ccd7-4d9d-a8c8-7a3c61a3d72d"
      },
      "outputs": [
        {
          "output_type": "stream",
          "name": "stdout",
          "text": [
            "Looking in indexes: https://pypi.org/simple, https://us-python.pkg.dev/colab-wheels/public/simple/\n",
            "Requirement already satisfied: mglearn in /usr/local/lib/python3.7/dist-packages (0.1.9)\n",
            "Requirement already satisfied: matplotlib in /usr/local/lib/python3.7/dist-packages (from mglearn) (3.2.2)\n",
            "Requirement already satisfied: pillow in /usr/local/lib/python3.7/dist-packages (from mglearn) (7.1.2)\n",
            "Requirement already satisfied: imageio in /usr/local/lib/python3.7/dist-packages (from mglearn) (2.9.0)\n",
            "Requirement already satisfied: cycler in /usr/local/lib/python3.7/dist-packages (from mglearn) (0.11.0)\n",
            "Requirement already satisfied: joblib in /usr/local/lib/python3.7/dist-packages (from mglearn) (1.1.0)\n",
            "Requirement already satisfied: pandas in /usr/local/lib/python3.7/dist-packages (from mglearn) (1.3.5)\n",
            "Requirement already satisfied: numpy in /usr/local/lib/python3.7/dist-packages (from mglearn) (1.21.6)\n",
            "Requirement already satisfied: scikit-learn in /usr/local/lib/python3.7/dist-packages (from mglearn) (1.0.2)\n",
            "Requirement already satisfied: kiwisolver>=1.0.1 in /usr/local/lib/python3.7/dist-packages (from matplotlib->mglearn) (1.4.4)\n",
            "Requirement already satisfied: python-dateutil>=2.1 in /usr/local/lib/python3.7/dist-packages (from matplotlib->mglearn) (2.8.2)\n",
            "Requirement already satisfied: pyparsing!=2.0.4,!=2.1.2,!=2.1.6,>=2.0.1 in /usr/local/lib/python3.7/dist-packages (from matplotlib->mglearn) (3.0.9)\n",
            "Requirement already satisfied: typing-extensions in /usr/local/lib/python3.7/dist-packages (from kiwisolver>=1.0.1->matplotlib->mglearn) (4.1.1)\n",
            "Requirement already satisfied: six>=1.5 in /usr/local/lib/python3.7/dist-packages (from python-dateutil>=2.1->matplotlib->mglearn) (1.15.0)\n",
            "Requirement already satisfied: pytz>=2017.3 in /usr/local/lib/python3.7/dist-packages (from pandas->mglearn) (2022.6)\n",
            "Requirement already satisfied: threadpoolctl>=2.0.0 in /usr/local/lib/python3.7/dist-packages (from scikit-learn->mglearn) (3.1.0)\n",
            "Requirement already satisfied: scipy>=1.1.0 in /usr/local/lib/python3.7/dist-packages (from scikit-learn->mglearn) (1.7.3)\n"
          ]
        }
      ],
      "source": [
        "!pip install mglearn "
      ]
    },
    {
      "cell_type": "code",
      "source": [
        "!pip install --upgrade joblib==1.1.0"
      ],
      "metadata": {
        "colab": {
          "base_uri": "https://localhost:8080/"
        },
        "id": "TVsZCaD9dUuL",
        "outputId": "a6ef948a-b85c-4295-947a-5ccb8e274da2"
      },
      "execution_count": null,
      "outputs": [
        {
          "output_type": "stream",
          "name": "stdout",
          "text": [
            "Looking in indexes: https://pypi.org/simple, https://us-python.pkg.dev/colab-wheels/public/simple/\n",
            "Requirement already satisfied: joblib==1.1.0 in /usr/local/lib/python3.7/dist-packages (1.1.0)\n"
          ]
        }
      ]
    },
    {
      "cell_type": "code",
      "source": [
        "import mglearn"
      ],
      "metadata": {
        "id": "R7XvqOcsdWXV"
      },
      "execution_count": null,
      "outputs": []
    },
    {
      "cell_type": "markdown",
      "source": [
        "## 데이터 불러오기 및 탐색"
      ],
      "metadata": {
        "id": "r-MBl-Pfdhfq"
      }
    },
    {
      "cell_type": "code",
      "source": [
        "%matplotlib inline\n",
        "import pandas as pd\n",
        "import seaborn as sns\n",
        "import matplotlib.pyplot as plt"
      ],
      "metadata": {
        "id": "eNUQAQUQdlM6"
      },
      "execution_count": null,
      "outputs": []
    },
    {
      "cell_type": "code",
      "source": [
        "health = pd.read_csv('https://raw.githubusercontent.com/fbalsrud/ITB2022/main/health_data.csv', index_col = '가입자일련번호')\n",
        "\n",
        "print(health.columns)"
      ],
      "metadata": {
        "colab": {
          "base_uri": "https://localhost:8080/"
        },
        "id": "WLD7M9yXd1kH",
        "outputId": "dddd6e3b-ede0-4590-ef53-02978f9cd3e8"
      },
      "execution_count": null,
      "outputs": [
        {
          "output_type": "stream",
          "name": "stdout",
          "text": [
            "Index(['기준년도', '시도코드', '성별코드', '연령대코드(5세단위)', '신장(5Cm단위)', '체중(5Kg 단위)',\n",
            "       '허리둘레', '시력(좌)', '시력(우)', '청력(좌)', '청력(우)', '수축기혈압', '이완기혈압',\n",
            "       '식전혈당(공복혈당)', '총콜레스테롤', '트리글리세라이드', 'HDL콜레스테롤', 'LDL콜레스테롤', '혈색소',\n",
            "       '요단백', '혈청크레아티닌', '(혈청지오티)AST', '(혈청지오티)ALT', '감마지티피', '흡연상태', '음주여부',\n",
            "       '구강검진수검여부', '치아우식증유무', '치석', '데이터공개일자'],\n",
            "      dtype='object')\n"
          ]
        }
      ]
    },
    {
      "cell_type": "code",
      "source": [
        "display(health.info())\n",
        "display(health.head())"
      ],
      "metadata": {
        "colab": {
          "base_uri": "https://localhost:8080/",
          "height": 1000
        },
        "id": "XBEttcqVlLan",
        "outputId": "0fd59673-8b97-4c34-b9e9-aa746d57274b"
      },
      "execution_count": null,
      "outputs": [
        {
          "output_type": "stream",
          "name": "stdout",
          "text": [
            "<class 'pandas.core.frame.DataFrame'>\n",
            "Int64Index: 10000 entries, 1 to 10000\n",
            "Data columns (total 30 columns):\n",
            " #   Column       Non-Null Count  Dtype  \n",
            "---  ------       --------------  -----  \n",
            " 0   기준년도         10000 non-null  int64  \n",
            " 1   시도코드         10000 non-null  int64  \n",
            " 2   성별코드         10000 non-null  object \n",
            " 3   연령대코드(5세단위)  10000 non-null  int64  \n",
            " 4   신장(5Cm단위)    10000 non-null  int64  \n",
            " 5   체중(5Kg 단위)   10000 non-null  int64  \n",
            " 6   허리둘레         10000 non-null  float64\n",
            " 7   시력(좌)        10000 non-null  float64\n",
            " 8   시력(우)        10000 non-null  float64\n",
            " 9   청력(좌)        10000 non-null  int64  \n",
            " 10  청력(우)        10000 non-null  int64  \n",
            " 11  수축기혈압        9912 non-null   float64\n",
            " 12  이완기혈압        9912 non-null   float64\n",
            " 13  식전혈당(공복혈당)   9912 non-null   float64\n",
            " 14  총콜레스테롤       4044 non-null   float64\n",
            " 15  트리글리세라이드     4044 non-null   float64\n",
            " 16  HDL콜레스테롤     4044 non-null   float64\n",
            " 17  LDL콜레스테롤     3977 non-null   float64\n",
            " 18  혈색소          9912 non-null   float64\n",
            " 19  요단백          9861 non-null   float64\n",
            " 20  혈청크레아티닌      9912 non-null   float64\n",
            " 21  (혈청지오티)AST   9912 non-null   float64\n",
            " 22  (혈청지오티)ALT   9912 non-null   float64\n",
            " 23  감마지티피        9912 non-null   float64\n",
            " 24  흡연상태         9998 non-null   object \n",
            " 25  음주여부         9999 non-null   object \n",
            " 26  구강검진수검여부     10000 non-null  int64  \n",
            " 27  치아우식증유무      3251 non-null   float64\n",
            " 28  치석           3251 non-null   float64\n",
            " 29  데이터공개일자      10000 non-null  object \n",
            "dtypes: float64(18), int64(8), object(4)\n",
            "memory usage: 2.4+ MB\n"
          ]
        },
        {
          "output_type": "display_data",
          "data": {
            "text/plain": [
              "None"
            ]
          },
          "metadata": {}
        },
        {
          "output_type": "display_data",
          "data": {
            "text/plain": [
              "         기준년도  시도코드 성별코드  연령대코드(5세단위)  신장(5Cm단위)  체중(5Kg 단위)  허리둘레  시력(좌)  \\\n",
              "가입자일련번호                                                                     \n",
              "1        2020    36    M            9        165          60  72.1    1.2   \n",
              "2        2020    27    F           13        150          65  81.0    0.8   \n",
              "3        2020    11    F           12        155          55  70.0    0.6   \n",
              "4        2020    31    M           13        160          70  90.8    1.0   \n",
              "5        2020    41    F           12        155          50  75.2    1.5   \n",
              "\n",
              "         시력(우)  청력(좌)  ...  혈청크레아티닌  (혈청지오티)AST  (혈청지오티)ALT  감마지티피  흡연상태  \\\n",
              "가입자일련번호                ...                                                 \n",
              "1          1.5      1  ...      1.1        21.0        27.0   21.0    No   \n",
              "2          0.8      1  ...      0.5        18.0        15.0   15.0    No   \n",
              "3          0.7      1  ...      0.7        27.0        25.0    7.0    No   \n",
              "4          1.0      1  ...      1.2        65.0        97.0   72.0    No   \n",
              "5          1.2      1  ...      0.7        18.0        17.0   14.0    No   \n",
              "\n",
              "         음주여부  구강검진수검여부  치아우식증유무   치석     데이터공개일자  \n",
              "가입자일련번호                                            \n",
              "1          No         0      NaN  NaN  12/29/2021  \n",
              "2          No         0      NaN  NaN  12/29/2021  \n",
              "3          No         0      NaN  NaN  12/29/2021  \n",
              "4          No         1      0.0  0.0  12/29/2021  \n",
              "5          No         0      NaN  NaN  12/29/2021  \n",
              "\n",
              "[5 rows x 30 columns]"
            ],
            "text/html": [
              "\n",
              "  <div id=\"df-b762dfc0-7cea-44b8-b72d-4d8894c559b3\">\n",
              "    <div class=\"colab-df-container\">\n",
              "      <div>\n",
              "<style scoped>\n",
              "    .dataframe tbody tr th:only-of-type {\n",
              "        vertical-align: middle;\n",
              "    }\n",
              "\n",
              "    .dataframe tbody tr th {\n",
              "        vertical-align: top;\n",
              "    }\n",
              "\n",
              "    .dataframe thead th {\n",
              "        text-align: right;\n",
              "    }\n",
              "</style>\n",
              "<table border=\"1\" class=\"dataframe\">\n",
              "  <thead>\n",
              "    <tr style=\"text-align: right;\">\n",
              "      <th></th>\n",
              "      <th>기준년도</th>\n",
              "      <th>시도코드</th>\n",
              "      <th>성별코드</th>\n",
              "      <th>연령대코드(5세단위)</th>\n",
              "      <th>신장(5Cm단위)</th>\n",
              "      <th>체중(5Kg 단위)</th>\n",
              "      <th>허리둘레</th>\n",
              "      <th>시력(좌)</th>\n",
              "      <th>시력(우)</th>\n",
              "      <th>청력(좌)</th>\n",
              "      <th>...</th>\n",
              "      <th>혈청크레아티닌</th>\n",
              "      <th>(혈청지오티)AST</th>\n",
              "      <th>(혈청지오티)ALT</th>\n",
              "      <th>감마지티피</th>\n",
              "      <th>흡연상태</th>\n",
              "      <th>음주여부</th>\n",
              "      <th>구강검진수검여부</th>\n",
              "      <th>치아우식증유무</th>\n",
              "      <th>치석</th>\n",
              "      <th>데이터공개일자</th>\n",
              "    </tr>\n",
              "    <tr>\n",
              "      <th>가입자일련번호</th>\n",
              "      <th></th>\n",
              "      <th></th>\n",
              "      <th></th>\n",
              "      <th></th>\n",
              "      <th></th>\n",
              "      <th></th>\n",
              "      <th></th>\n",
              "      <th></th>\n",
              "      <th></th>\n",
              "      <th></th>\n",
              "      <th></th>\n",
              "      <th></th>\n",
              "      <th></th>\n",
              "      <th></th>\n",
              "      <th></th>\n",
              "      <th></th>\n",
              "      <th></th>\n",
              "      <th></th>\n",
              "      <th></th>\n",
              "      <th></th>\n",
              "      <th></th>\n",
              "    </tr>\n",
              "  </thead>\n",
              "  <tbody>\n",
              "    <tr>\n",
              "      <th>1</th>\n",
              "      <td>2020</td>\n",
              "      <td>36</td>\n",
              "      <td>M</td>\n",
              "      <td>9</td>\n",
              "      <td>165</td>\n",
              "      <td>60</td>\n",
              "      <td>72.1</td>\n",
              "      <td>1.2</td>\n",
              "      <td>1.5</td>\n",
              "      <td>1</td>\n",
              "      <td>...</td>\n",
              "      <td>1.1</td>\n",
              "      <td>21.0</td>\n",
              "      <td>27.0</td>\n",
              "      <td>21.0</td>\n",
              "      <td>No</td>\n",
              "      <td>No</td>\n",
              "      <td>0</td>\n",
              "      <td>NaN</td>\n",
              "      <td>NaN</td>\n",
              "      <td>12/29/2021</td>\n",
              "    </tr>\n",
              "    <tr>\n",
              "      <th>2</th>\n",
              "      <td>2020</td>\n",
              "      <td>27</td>\n",
              "      <td>F</td>\n",
              "      <td>13</td>\n",
              "      <td>150</td>\n",
              "      <td>65</td>\n",
              "      <td>81.0</td>\n",
              "      <td>0.8</td>\n",
              "      <td>0.8</td>\n",
              "      <td>1</td>\n",
              "      <td>...</td>\n",
              "      <td>0.5</td>\n",
              "      <td>18.0</td>\n",
              "      <td>15.0</td>\n",
              "      <td>15.0</td>\n",
              "      <td>No</td>\n",
              "      <td>No</td>\n",
              "      <td>0</td>\n",
              "      <td>NaN</td>\n",
              "      <td>NaN</td>\n",
              "      <td>12/29/2021</td>\n",
              "    </tr>\n",
              "    <tr>\n",
              "      <th>3</th>\n",
              "      <td>2020</td>\n",
              "      <td>11</td>\n",
              "      <td>F</td>\n",
              "      <td>12</td>\n",
              "      <td>155</td>\n",
              "      <td>55</td>\n",
              "      <td>70.0</td>\n",
              "      <td>0.6</td>\n",
              "      <td>0.7</td>\n",
              "      <td>1</td>\n",
              "      <td>...</td>\n",
              "      <td>0.7</td>\n",
              "      <td>27.0</td>\n",
              "      <td>25.0</td>\n",
              "      <td>7.0</td>\n",
              "      <td>No</td>\n",
              "      <td>No</td>\n",
              "      <td>0</td>\n",
              "      <td>NaN</td>\n",
              "      <td>NaN</td>\n",
              "      <td>12/29/2021</td>\n",
              "    </tr>\n",
              "    <tr>\n",
              "      <th>4</th>\n",
              "      <td>2020</td>\n",
              "      <td>31</td>\n",
              "      <td>M</td>\n",
              "      <td>13</td>\n",
              "      <td>160</td>\n",
              "      <td>70</td>\n",
              "      <td>90.8</td>\n",
              "      <td>1.0</td>\n",
              "      <td>1.0</td>\n",
              "      <td>1</td>\n",
              "      <td>...</td>\n",
              "      <td>1.2</td>\n",
              "      <td>65.0</td>\n",
              "      <td>97.0</td>\n",
              "      <td>72.0</td>\n",
              "      <td>No</td>\n",
              "      <td>No</td>\n",
              "      <td>1</td>\n",
              "      <td>0.0</td>\n",
              "      <td>0.0</td>\n",
              "      <td>12/29/2021</td>\n",
              "    </tr>\n",
              "    <tr>\n",
              "      <th>5</th>\n",
              "      <td>2020</td>\n",
              "      <td>41</td>\n",
              "      <td>F</td>\n",
              "      <td>12</td>\n",
              "      <td>155</td>\n",
              "      <td>50</td>\n",
              "      <td>75.2</td>\n",
              "      <td>1.5</td>\n",
              "      <td>1.2</td>\n",
              "      <td>1</td>\n",
              "      <td>...</td>\n",
              "      <td>0.7</td>\n",
              "      <td>18.0</td>\n",
              "      <td>17.0</td>\n",
              "      <td>14.0</td>\n",
              "      <td>No</td>\n",
              "      <td>No</td>\n",
              "      <td>0</td>\n",
              "      <td>NaN</td>\n",
              "      <td>NaN</td>\n",
              "      <td>12/29/2021</td>\n",
              "    </tr>\n",
              "  </tbody>\n",
              "</table>\n",
              "<p>5 rows × 30 columns</p>\n",
              "</div>\n",
              "      <button class=\"colab-df-convert\" onclick=\"convertToInteractive('df-b762dfc0-7cea-44b8-b72d-4d8894c559b3')\"\n",
              "              title=\"Convert this dataframe to an interactive table.\"\n",
              "              style=\"display:none;\">\n",
              "        \n",
              "  <svg xmlns=\"http://www.w3.org/2000/svg\" height=\"24px\"viewBox=\"0 0 24 24\"\n",
              "       width=\"24px\">\n",
              "    <path d=\"M0 0h24v24H0V0z\" fill=\"none\"/>\n",
              "    <path d=\"M18.56 5.44l.94 2.06.94-2.06 2.06-.94-2.06-.94-.94-2.06-.94 2.06-2.06.94zm-11 1L8.5 8.5l.94-2.06 2.06-.94-2.06-.94L8.5 2.5l-.94 2.06-2.06.94zm10 10l.94 2.06.94-2.06 2.06-.94-2.06-.94-.94-2.06-.94 2.06-2.06.94z\"/><path d=\"M17.41 7.96l-1.37-1.37c-.4-.4-.92-.59-1.43-.59-.52 0-1.04.2-1.43.59L10.3 9.45l-7.72 7.72c-.78.78-.78 2.05 0 2.83L4 21.41c.39.39.9.59 1.41.59.51 0 1.02-.2 1.41-.59l7.78-7.78 2.81-2.81c.8-.78.8-2.07 0-2.86zM5.41 20L4 18.59l7.72-7.72 1.47 1.35L5.41 20z\"/>\n",
              "  </svg>\n",
              "      </button>\n",
              "      \n",
              "  <style>\n",
              "    .colab-df-container {\n",
              "      display:flex;\n",
              "      flex-wrap:wrap;\n",
              "      gap: 12px;\n",
              "    }\n",
              "\n",
              "    .colab-df-convert {\n",
              "      background-color: #E8F0FE;\n",
              "      border: none;\n",
              "      border-radius: 50%;\n",
              "      cursor: pointer;\n",
              "      display: none;\n",
              "      fill: #1967D2;\n",
              "      height: 32px;\n",
              "      padding: 0 0 0 0;\n",
              "      width: 32px;\n",
              "    }\n",
              "\n",
              "    .colab-df-convert:hover {\n",
              "      background-color: #E2EBFA;\n",
              "      box-shadow: 0px 1px 2px rgba(60, 64, 67, 0.3), 0px 1px 3px 1px rgba(60, 64, 67, 0.15);\n",
              "      fill: #174EA6;\n",
              "    }\n",
              "\n",
              "    [theme=dark] .colab-df-convert {\n",
              "      background-color: #3B4455;\n",
              "      fill: #D2E3FC;\n",
              "    }\n",
              "\n",
              "    [theme=dark] .colab-df-convert:hover {\n",
              "      background-color: #434B5C;\n",
              "      box-shadow: 0px 1px 3px 1px rgba(0, 0, 0, 0.15);\n",
              "      filter: drop-shadow(0px 1px 2px rgba(0, 0, 0, 0.3));\n",
              "      fill: #FFFFFF;\n",
              "    }\n",
              "  </style>\n",
              "\n",
              "      <script>\n",
              "        const buttonEl =\n",
              "          document.querySelector('#df-b762dfc0-7cea-44b8-b72d-4d8894c559b3 button.colab-df-convert');\n",
              "        buttonEl.style.display =\n",
              "          google.colab.kernel.accessAllowed ? 'block' : 'none';\n",
              "\n",
              "        async function convertToInteractive(key) {\n",
              "          const element = document.querySelector('#df-b762dfc0-7cea-44b8-b72d-4d8894c559b3');\n",
              "          const dataTable =\n",
              "            await google.colab.kernel.invokeFunction('convertToInteractive',\n",
              "                                                     [key], {});\n",
              "          if (!dataTable) return;\n",
              "\n",
              "          const docLinkHtml = 'Like what you see? Visit the ' +\n",
              "            '<a target=\"_blank\" href=https://colab.research.google.com/notebooks/data_table.ipynb>data table notebook</a>'\n",
              "            + ' to learn more about interactive tables.';\n",
              "          element.innerHTML = '';\n",
              "          dataTable['output_type'] = 'display_data';\n",
              "          await google.colab.output.renderOutput(dataTable, element);\n",
              "          const docLink = document.createElement('div');\n",
              "          docLink.innerHTML = docLinkHtml;\n",
              "          element.appendChild(docLink);\n",
              "        }\n",
              "      </script>\n",
              "    </div>\n",
              "  </div>\n",
              "  "
            ]
          },
          "metadata": {}
        }
      ]
    },
    {
      "cell_type": "markdown",
      "source": [
        "### 변수명 변경\n",
        "\n"
      ],
      "metadata": {
        "id": "AsMMu30MgEHm"
      }
    },
    {
      "cell_type": "code",
      "source": [
        "#변수명 변경\n",
        "health = health.rename(columns={\"가입자일련번호\": \"id\"})\n",
        "\n",
        "health = health.rename(columns={\"기준년도\": \"HCHK_YEAR\"})\n",
        "health = health.rename(columns={\"시도코드\": \"SIDO\"})\n",
        "health = health.rename(columns={\"성별코드\": \"SEX\"})\n",
        "health = health.rename(columns={\"연령대코드(5세단위)\": \"AGE_GROUP\"})\n",
        "health = health.rename(columns={\"신장(5Cm단위)\": \"HEIGHT\"})\n",
        "health = health.rename(columns={\"체중(5Kg 단위)\": \"WEIGHT\"})\n",
        "health = health.rename(columns={\"허리둘레\": \"WAIST\"})\n",
        "health = health.rename(columns={\"시력(좌)\": \"SIGHT_LEFT\"})\n",
        "health = health.rename(columns={\"시력(우)\": \"SIGHT_RIGHT\"})\n",
        "health = health.rename(columns={\"청력(좌)\": \"HEAR_LEFT\"})\n",
        "health = health.rename(columns={\"청력(우)\": \"HEAR_RIGHT\"})\n",
        "health = health.rename(columns={\"수축기혈압\": \"BP_HIGH\"})\n",
        "health = health.rename(columns={\"이완기혈압\": \"BP_LWST\"})\n",
        "health = health.rename(columns={\"식전혈당(공복혈당)\": \"BLDS\"})\n",
        "health = health.rename(columns={\"총콜레스테롤\": \"TOT_CHOLE\"})\n",
        "health = health.rename(columns={\"트리글리세라이드\": \"TRIGLYCERIDE\"})\n",
        "health = health.rename(columns={\"HDL콜레스테롤\": \"HDL_CHOLE\"})\n",
        "health = health.rename(columns={\"LDL콜레스테롤\": \"LDL_CHOLE\"})\n",
        "health = health.rename(columns={\"혈색소\": \"HMG\"})\n",
        "health = health.rename(columns={\"요단백\": \"OLIG_PROTE_CD\"})\n",
        "health = health.rename(columns={\"혈청크레아티닌\": \"CREATININE\"})\n",
        "health = health.rename(columns={\"(혈청지오티)AST\": \"SGOT_AST\"})\n",
        "health = health.rename(columns={\"(혈청지오티)ALT\": \"SGPT_ALT\"})\n",
        "health = health.rename(columns={\"감마지티피\": \"GAMMA_GTP\"})\n",
        "health = health.rename(columns={\"흡연상태\": \"SMK\"})\n",
        "health = health.rename(columns={\"음주여부\": \"DRK\"})\n",
        "health = health.rename(columns={\"구강검진수검여부\": \"INSPEC\"})\n",
        "health = health.rename(columns={\"치아우식증유무\": \"CRS_YN\"})\n",
        "health = health.rename(columns={\"치석\": \"TTR_YN\"})\n",
        "health = health.rename(columns={\"데이터공개일자\": \"DATA_STD\"})"
      ],
      "metadata": {
        "id": "AMdlXMHkgbLt"
      },
      "execution_count": null,
      "outputs": []
    },
    {
      "cell_type": "code",
      "source": [
        "#바뀐 변수명 확인\n",
        "health.info()"
      ],
      "metadata": {
        "colab": {
          "base_uri": "https://localhost:8080/"
        },
        "id": "GeidQAqVguCA",
        "outputId": "27c5a76b-fac7-498c-de26-1639d036fac9"
      },
      "execution_count": null,
      "outputs": [
        {
          "output_type": "stream",
          "name": "stdout",
          "text": [
            "<class 'pandas.core.frame.DataFrame'>\n",
            "Int64Index: 10000 entries, 1 to 10000\n",
            "Data columns (total 30 columns):\n",
            " #   Column         Non-Null Count  Dtype  \n",
            "---  ------         --------------  -----  \n",
            " 0   HCHK_YEAR      10000 non-null  int64  \n",
            " 1   SIDO           10000 non-null  int64  \n",
            " 2   SEX            10000 non-null  object \n",
            " 3   AGE_GROUP      10000 non-null  int64  \n",
            " 4   HEIGHT         10000 non-null  int64  \n",
            " 5   WEIGHT         10000 non-null  int64  \n",
            " 6   WAIST          10000 non-null  float64\n",
            " 7   SIGHT_LEFT     10000 non-null  float64\n",
            " 8   SIGHT_RIGHT    10000 non-null  float64\n",
            " 9   HEAR_LEFT      10000 non-null  int64  \n",
            " 10  HEAR_RIGHT     10000 non-null  int64  \n",
            " 11  BP_HIGH        9912 non-null   float64\n",
            " 12  BP_LWST        9912 non-null   float64\n",
            " 13  BLDS           9912 non-null   float64\n",
            " 14  TOT_CHOLE      4044 non-null   float64\n",
            " 15  TRIGLYCERIDE   4044 non-null   float64\n",
            " 16  HDL_CHOLE      4044 non-null   float64\n",
            " 17  LDL_CHOLE      3977 non-null   float64\n",
            " 18  HMG            9912 non-null   float64\n",
            " 19  OLIG_PROTE_CD  9861 non-null   float64\n",
            " 20  CREATININE     9912 non-null   float64\n",
            " 21  SGOT_AST       9912 non-null   float64\n",
            " 22  SGPT_ALT       9912 non-null   float64\n",
            " 23  GAMMA_GTP      9912 non-null   float64\n",
            " 24  SMK            9998 non-null   object \n",
            " 25  DRK            9999 non-null   object \n",
            " 26  INSPEC         10000 non-null  int64  \n",
            " 27  CRS_YN         3251 non-null   float64\n",
            " 28  TTR_YN         3251 non-null   float64\n",
            " 29  DATA_STD       10000 non-null  object \n",
            "dtypes: float64(18), int64(8), object(4)\n",
            "memory usage: 2.4+ MB\n"
          ]
        }
      ]
    },
    {
      "cell_type": "markdown",
      "source": [
        "###데이터 전처리"
      ],
      "metadata": {
        "id": "NnycrDdvl5ov"
      }
    },
    {
      "cell_type": "code",
      "source": [
        "#결측치 제거\n",
        "health = health.drop(['TOT_CHOLE','TRIGLYCERIDE','HDL_CHOLE','LDL_CHOLE','CRS_YN','TTR_YN'], axis=1)\n",
        "\n",
        "#불필요한 변수 제거\n",
        "health = health.drop(['HCHK_YEAR', 'DATA_STD'], axis=1)\n",
        "\n",
        "#결측행 제거\n",
        "health.dropna(inplace=True, axis=0)\n",
        "\n",
        "health.info()"
      ],
      "metadata": {
        "colab": {
          "base_uri": "https://localhost:8080/"
        },
        "id": "ixuEevROngUQ",
        "outputId": "98d7757e-e37b-4bee-e8b7-fa38286f907f"
      },
      "execution_count": null,
      "outputs": [
        {
          "output_type": "stream",
          "name": "stdout",
          "text": [
            "<class 'pandas.core.frame.DataFrame'>\n",
            "Int64Index: 9858 entries, 1 to 10000\n",
            "Data columns (total 22 columns):\n",
            " #   Column         Non-Null Count  Dtype  \n",
            "---  ------         --------------  -----  \n",
            " 0   SIDO           9858 non-null   int64  \n",
            " 1   SEX            9858 non-null   object \n",
            " 2   AGE_GROUP      9858 non-null   int64  \n",
            " 3   HEIGHT         9858 non-null   int64  \n",
            " 4   WEIGHT         9858 non-null   int64  \n",
            " 5   WAIST          9858 non-null   float64\n",
            " 6   SIGHT_LEFT     9858 non-null   float64\n",
            " 7   SIGHT_RIGHT    9858 non-null   float64\n",
            " 8   HEAR_LEFT      9858 non-null   int64  \n",
            " 9   HEAR_RIGHT     9858 non-null   int64  \n",
            " 10  BP_HIGH        9858 non-null   float64\n",
            " 11  BP_LWST        9858 non-null   float64\n",
            " 12  BLDS           9858 non-null   float64\n",
            " 13  HMG            9858 non-null   float64\n",
            " 14  OLIG_PROTE_CD  9858 non-null   float64\n",
            " 15  CREATININE     9858 non-null   float64\n",
            " 16  SGOT_AST       9858 non-null   float64\n",
            " 17  SGPT_ALT       9858 non-null   float64\n",
            " 18  GAMMA_GTP      9858 non-null   float64\n",
            " 19  SMK            9858 non-null   object \n",
            " 20  DRK            9858 non-null   object \n",
            " 21  INSPEC         9858 non-null   int64  \n",
            "dtypes: float64(12), int64(7), object(3)\n",
            "memory usage: 1.7+ MB\n"
          ]
        }
      ]
    },
    {
      "cell_type": "code",
      "source": [
        "#object인 변수 척도 바꾸기(성별, 흡연상태, 음주여부)\n",
        "\n",
        "health = pd.get_dummies(health)\n",
        "display(health.head())"
      ],
      "metadata": {
        "colab": {
          "base_uri": "https://localhost:8080/",
          "height": 435
        },
        "id": "UuG-tV-atHGI",
        "outputId": "aeedf15e-e607-4d46-8390-82b1fc65c629"
      },
      "execution_count": null,
      "outputs": [
        {
          "output_type": "display_data",
          "data": {
            "text/plain": [
              "         SIDO  AGE_GROUP  HEIGHT  WEIGHT  WAIST  SIGHT_LEFT  SIGHT_RIGHT  \\\n",
              "가입자일련번호                                                                    \n",
              "1          36          9     165      60   72.1         1.2          1.5   \n",
              "2          27         13     150      65   81.0         0.8          0.8   \n",
              "3          11         12     155      55   70.0         0.6          0.7   \n",
              "4          31         13     160      70   90.8         1.0          1.0   \n",
              "5          41         12     155      50   75.2         1.5          1.2   \n",
              "\n",
              "         HEAR_LEFT  HEAR_RIGHT  BP_HIGH  ...  SGPT_ALT  GAMMA_GTP  INSPEC  \\\n",
              "가입자일련번호                                  ...                                \n",
              "1                1           1    127.0  ...      27.0       21.0       0   \n",
              "2                1           1    110.0  ...      15.0       15.0       0   \n",
              "3                1           1    123.0  ...      25.0        7.0       0   \n",
              "4                1           2    134.0  ...      97.0       72.0       1   \n",
              "5                1           1    144.0  ...      17.0       14.0       0   \n",
              "\n",
              "         SEX_F  SEX_M  SMK_No  SMK_NotNow  SMK_Yes  DRK_No  DRK_Yes  \n",
              "가입자일련번호                                                              \n",
              "1            0      1       1           0        0       1        0  \n",
              "2            1      0       1           0        0       1        0  \n",
              "3            1      0       1           0        0       1        0  \n",
              "4            0      1       1           0        0       1        0  \n",
              "5            1      0       1           0        0       1        0  \n",
              "\n",
              "[5 rows x 26 columns]"
            ],
            "text/html": [
              "\n",
              "  <div id=\"df-6411fc63-fbcc-4462-ac28-fd04d1b8248d\">\n",
              "    <div class=\"colab-df-container\">\n",
              "      <div>\n",
              "<style scoped>\n",
              "    .dataframe tbody tr th:only-of-type {\n",
              "        vertical-align: middle;\n",
              "    }\n",
              "\n",
              "    .dataframe tbody tr th {\n",
              "        vertical-align: top;\n",
              "    }\n",
              "\n",
              "    .dataframe thead th {\n",
              "        text-align: right;\n",
              "    }\n",
              "</style>\n",
              "<table border=\"1\" class=\"dataframe\">\n",
              "  <thead>\n",
              "    <tr style=\"text-align: right;\">\n",
              "      <th></th>\n",
              "      <th>SIDO</th>\n",
              "      <th>AGE_GROUP</th>\n",
              "      <th>HEIGHT</th>\n",
              "      <th>WEIGHT</th>\n",
              "      <th>WAIST</th>\n",
              "      <th>SIGHT_LEFT</th>\n",
              "      <th>SIGHT_RIGHT</th>\n",
              "      <th>HEAR_LEFT</th>\n",
              "      <th>HEAR_RIGHT</th>\n",
              "      <th>BP_HIGH</th>\n",
              "      <th>...</th>\n",
              "      <th>SGPT_ALT</th>\n",
              "      <th>GAMMA_GTP</th>\n",
              "      <th>INSPEC</th>\n",
              "      <th>SEX_F</th>\n",
              "      <th>SEX_M</th>\n",
              "      <th>SMK_No</th>\n",
              "      <th>SMK_NotNow</th>\n",
              "      <th>SMK_Yes</th>\n",
              "      <th>DRK_No</th>\n",
              "      <th>DRK_Yes</th>\n",
              "    </tr>\n",
              "    <tr>\n",
              "      <th>가입자일련번호</th>\n",
              "      <th></th>\n",
              "      <th></th>\n",
              "      <th></th>\n",
              "      <th></th>\n",
              "      <th></th>\n",
              "      <th></th>\n",
              "      <th></th>\n",
              "      <th></th>\n",
              "      <th></th>\n",
              "      <th></th>\n",
              "      <th></th>\n",
              "      <th></th>\n",
              "      <th></th>\n",
              "      <th></th>\n",
              "      <th></th>\n",
              "      <th></th>\n",
              "      <th></th>\n",
              "      <th></th>\n",
              "      <th></th>\n",
              "      <th></th>\n",
              "      <th></th>\n",
              "    </tr>\n",
              "  </thead>\n",
              "  <tbody>\n",
              "    <tr>\n",
              "      <th>1</th>\n",
              "      <td>36</td>\n",
              "      <td>9</td>\n",
              "      <td>165</td>\n",
              "      <td>60</td>\n",
              "      <td>72.1</td>\n",
              "      <td>1.2</td>\n",
              "      <td>1.5</td>\n",
              "      <td>1</td>\n",
              "      <td>1</td>\n",
              "      <td>127.0</td>\n",
              "      <td>...</td>\n",
              "      <td>27.0</td>\n",
              "      <td>21.0</td>\n",
              "      <td>0</td>\n",
              "      <td>0</td>\n",
              "      <td>1</td>\n",
              "      <td>1</td>\n",
              "      <td>0</td>\n",
              "      <td>0</td>\n",
              "      <td>1</td>\n",
              "      <td>0</td>\n",
              "    </tr>\n",
              "    <tr>\n",
              "      <th>2</th>\n",
              "      <td>27</td>\n",
              "      <td>13</td>\n",
              "      <td>150</td>\n",
              "      <td>65</td>\n",
              "      <td>81.0</td>\n",
              "      <td>0.8</td>\n",
              "      <td>0.8</td>\n",
              "      <td>1</td>\n",
              "      <td>1</td>\n",
              "      <td>110.0</td>\n",
              "      <td>...</td>\n",
              "      <td>15.0</td>\n",
              "      <td>15.0</td>\n",
              "      <td>0</td>\n",
              "      <td>1</td>\n",
              "      <td>0</td>\n",
              "      <td>1</td>\n",
              "      <td>0</td>\n",
              "      <td>0</td>\n",
              "      <td>1</td>\n",
              "      <td>0</td>\n",
              "    </tr>\n",
              "    <tr>\n",
              "      <th>3</th>\n",
              "      <td>11</td>\n",
              "      <td>12</td>\n",
              "      <td>155</td>\n",
              "      <td>55</td>\n",
              "      <td>70.0</td>\n",
              "      <td>0.6</td>\n",
              "      <td>0.7</td>\n",
              "      <td>1</td>\n",
              "      <td>1</td>\n",
              "      <td>123.0</td>\n",
              "      <td>...</td>\n",
              "      <td>25.0</td>\n",
              "      <td>7.0</td>\n",
              "      <td>0</td>\n",
              "      <td>1</td>\n",
              "      <td>0</td>\n",
              "      <td>1</td>\n",
              "      <td>0</td>\n",
              "      <td>0</td>\n",
              "      <td>1</td>\n",
              "      <td>0</td>\n",
              "    </tr>\n",
              "    <tr>\n",
              "      <th>4</th>\n",
              "      <td>31</td>\n",
              "      <td>13</td>\n",
              "      <td>160</td>\n",
              "      <td>70</td>\n",
              "      <td>90.8</td>\n",
              "      <td>1.0</td>\n",
              "      <td>1.0</td>\n",
              "      <td>1</td>\n",
              "      <td>2</td>\n",
              "      <td>134.0</td>\n",
              "      <td>...</td>\n",
              "      <td>97.0</td>\n",
              "      <td>72.0</td>\n",
              "      <td>1</td>\n",
              "      <td>0</td>\n",
              "      <td>1</td>\n",
              "      <td>1</td>\n",
              "      <td>0</td>\n",
              "      <td>0</td>\n",
              "      <td>1</td>\n",
              "      <td>0</td>\n",
              "    </tr>\n",
              "    <tr>\n",
              "      <th>5</th>\n",
              "      <td>41</td>\n",
              "      <td>12</td>\n",
              "      <td>155</td>\n",
              "      <td>50</td>\n",
              "      <td>75.2</td>\n",
              "      <td>1.5</td>\n",
              "      <td>1.2</td>\n",
              "      <td>1</td>\n",
              "      <td>1</td>\n",
              "      <td>144.0</td>\n",
              "      <td>...</td>\n",
              "      <td>17.0</td>\n",
              "      <td>14.0</td>\n",
              "      <td>0</td>\n",
              "      <td>1</td>\n",
              "      <td>0</td>\n",
              "      <td>1</td>\n",
              "      <td>0</td>\n",
              "      <td>0</td>\n",
              "      <td>1</td>\n",
              "      <td>0</td>\n",
              "    </tr>\n",
              "  </tbody>\n",
              "</table>\n",
              "<p>5 rows × 26 columns</p>\n",
              "</div>\n",
              "      <button class=\"colab-df-convert\" onclick=\"convertToInteractive('df-6411fc63-fbcc-4462-ac28-fd04d1b8248d')\"\n",
              "              title=\"Convert this dataframe to an interactive table.\"\n",
              "              style=\"display:none;\">\n",
              "        \n",
              "  <svg xmlns=\"http://www.w3.org/2000/svg\" height=\"24px\"viewBox=\"0 0 24 24\"\n",
              "       width=\"24px\">\n",
              "    <path d=\"M0 0h24v24H0V0z\" fill=\"none\"/>\n",
              "    <path d=\"M18.56 5.44l.94 2.06.94-2.06 2.06-.94-2.06-.94-.94-2.06-.94 2.06-2.06.94zm-11 1L8.5 8.5l.94-2.06 2.06-.94-2.06-.94L8.5 2.5l-.94 2.06-2.06.94zm10 10l.94 2.06.94-2.06 2.06-.94-2.06-.94-.94-2.06-.94 2.06-2.06.94z\"/><path d=\"M17.41 7.96l-1.37-1.37c-.4-.4-.92-.59-1.43-.59-.52 0-1.04.2-1.43.59L10.3 9.45l-7.72 7.72c-.78.78-.78 2.05 0 2.83L4 21.41c.39.39.9.59 1.41.59.51 0 1.02-.2 1.41-.59l7.78-7.78 2.81-2.81c.8-.78.8-2.07 0-2.86zM5.41 20L4 18.59l7.72-7.72 1.47 1.35L5.41 20z\"/>\n",
              "  </svg>\n",
              "      </button>\n",
              "      \n",
              "  <style>\n",
              "    .colab-df-container {\n",
              "      display:flex;\n",
              "      flex-wrap:wrap;\n",
              "      gap: 12px;\n",
              "    }\n",
              "\n",
              "    .colab-df-convert {\n",
              "      background-color: #E8F0FE;\n",
              "      border: none;\n",
              "      border-radius: 50%;\n",
              "      cursor: pointer;\n",
              "      display: none;\n",
              "      fill: #1967D2;\n",
              "      height: 32px;\n",
              "      padding: 0 0 0 0;\n",
              "      width: 32px;\n",
              "    }\n",
              "\n",
              "    .colab-df-convert:hover {\n",
              "      background-color: #E2EBFA;\n",
              "      box-shadow: 0px 1px 2px rgba(60, 64, 67, 0.3), 0px 1px 3px 1px rgba(60, 64, 67, 0.15);\n",
              "      fill: #174EA6;\n",
              "    }\n",
              "\n",
              "    [theme=dark] .colab-df-convert {\n",
              "      background-color: #3B4455;\n",
              "      fill: #D2E3FC;\n",
              "    }\n",
              "\n",
              "    [theme=dark] .colab-df-convert:hover {\n",
              "      background-color: #434B5C;\n",
              "      box-shadow: 0px 1px 3px 1px rgba(0, 0, 0, 0.15);\n",
              "      filter: drop-shadow(0px 1px 2px rgba(0, 0, 0, 0.3));\n",
              "      fill: #FFFFFF;\n",
              "    }\n",
              "  </style>\n",
              "\n",
              "      <script>\n",
              "        const buttonEl =\n",
              "          document.querySelector('#df-6411fc63-fbcc-4462-ac28-fd04d1b8248d button.colab-df-convert');\n",
              "        buttonEl.style.display =\n",
              "          google.colab.kernel.accessAllowed ? 'block' : 'none';\n",
              "\n",
              "        async function convertToInteractive(key) {\n",
              "          const element = document.querySelector('#df-6411fc63-fbcc-4462-ac28-fd04d1b8248d');\n",
              "          const dataTable =\n",
              "            await google.colab.kernel.invokeFunction('convertToInteractive',\n",
              "                                                     [key], {});\n",
              "          if (!dataTable) return;\n",
              "\n",
              "          const docLinkHtml = 'Like what you see? Visit the ' +\n",
              "            '<a target=\"_blank\" href=https://colab.research.google.com/notebooks/data_table.ipynb>data table notebook</a>'\n",
              "            + ' to learn more about interactive tables.';\n",
              "          element.innerHTML = '';\n",
              "          dataTable['output_type'] = 'display_data';\n",
              "          await google.colab.output.renderOutput(dataTable, element);\n",
              "          const docLink = document.createElement('div');\n",
              "          docLink.innerHTML = docLinkHtml;\n",
              "          element.appendChild(docLink);\n",
              "        }\n",
              "      </script>\n",
              "    </div>\n",
              "  </div>\n",
              "  "
            ]
          },
          "metadata": {}
        }
      ]
    },
    {
      "cell_type": "markdown",
      "source": [
        "### 파생변수 생성"
      ],
      "metadata": {
        "id": "S1_jdy5vny16"
      }
    },
    {
      "cell_type": "code",
      "source": [
        "#혈청크레아티닌 정상치는 0.8~1.7mg/dL\n",
        "\n",
        "def get_diagnosis(x):   # 혈청크레아티닌 수치가 정상 범위에 속하면 0, 그렇지 않으면 1을 반환하는 함수 정의\n",
        "  if 0.8 <= x <= 1.7:\n",
        "    return 0\n",
        "  else:\n",
        "    return 1\n",
        "\n",
        "health['diagnosis'] = health['CREATININE'].apply(get_diagnosis)   # 새로운 column 'diagnosis' 생성\n",
        "health['diagnosis']"
      ],
      "metadata": {
        "id": "T0W0kw6govw9",
        "colab": {
          "base_uri": "https://localhost:8080/"
        },
        "outputId": "93174fcf-94c7-4c04-e75a-db14aa61c8b4"
      },
      "execution_count": null,
      "outputs": [
        {
          "output_type": "execute_result",
          "data": {
            "text/plain": [
              "가입자일련번호\n",
              "1        0\n",
              "2        1\n",
              "3        1\n",
              "4        0\n",
              "5        1\n",
              "        ..\n",
              "9995     0\n",
              "9996     1\n",
              "9997     1\n",
              "9998     0\n",
              "10000    1\n",
              "Name: diagnosis, Length: 9858, dtype: int64"
            ]
          },
          "metadata": {},
          "execution_count": 78
        }
      ]
    },
    {
      "cell_type": "markdown",
      "source": [
        "### 혈청크레아티닌 정상/비정상 여부 비율 확인"
      ],
      "metadata": {
        "id": "a9nky0CBlqms"
      }
    },
    {
      "cell_type": "code",
      "source": [
        "print(health['diagnosis'].value_counts())\n",
        "\n",
        "health['diagnosis'].value_counts().plot.bar()\n",
        "plt.ylabel('count')\n",
        "plt.title('Distribution of creatinine')\n",
        "plt.show()"
      ],
      "metadata": {
        "colab": {
          "base_uri": "https://localhost:8080/",
          "height": 332
        },
        "id": "eslXHTPoljiZ",
        "outputId": "0a31275f-288e-43c9-8ca6-26915fc04960"
      },
      "execution_count": null,
      "outputs": [
        {
          "output_type": "stream",
          "name": "stdout",
          "text": [
            "0    6283\n",
            "1    3575\n",
            "Name: diagnosis, dtype: int64\n"
          ]
        },
        {
          "output_type": "display_data",
          "data": {
            "text/plain": [
              "<Figure size 432x288 with 1 Axes>"
            ],
            "image/png": "[encoded data removed]"
          },
          "metadata": {
            "needs_background": "light"
          }
        }
      ]
    },
    {
      "cell_type": "markdown",
      "source": [
        "##의사결정나무 만들기"
      ],
      "metadata": {
        "id": "rZg6H31pSnKr"
      }
    },
    {
      "cell_type": "code",
      "source": [
        "mglearn.plots.plot_tree_progressive()"
      ],
      "metadata": {
        "colab": {
          "base_uri": "https://localhost:8080/",
          "height": 1000
        },
        "id": "EEyDAhKFSb1v",
        "outputId": "eab23ec6-98b3-455a-8841-7276f8f355a4"
      },
      "execution_count": null,
      "outputs": [
        {
          "output_type": "display_data",
          "data": {
            "text/plain": [
              "<Figure size 432x288 with 1 Axes>"
            ],
            "image/png": "[encoded data removed]"
          },
          "metadata": {
            "needs_background": "light"
          }
        },
        {
          "output_type": "display_data",
          "data": {
            "text/plain": [
              "<Figure size 864x288 with 2 Axes>"
            ],
            "image/png": "[encoded data removed]"
          },
          "metadata": {}
        },
        {
          "output_type": "display_data",
          "data": {
            "text/plain": [
              "<Figure size 864x288 with 2 Axes>"
            ],
            "image/png": "[encoded data removed]"
          },
          "metadata": {}
        },
        {
          "output_type": "display_data",
          "data": {
            "text/plain": [
              "<Figure size 864x288 with 2 Axes>"
            ],
            "image/png": "[encoded data removed]"
          },
          "metadata": {}
        }
      ]
    },
    {
      "cell_type": "code",
      "source": [
        "from sklearn.tree import DecisionTreeClassifier\n",
        "from sklearn.model_selection import train_test_split\n",
        "\n",
        "X = health.drop(['diagnosis', 'CREATININE'], axis=1)  # 독립변수\n",
        "y = health['diagnosis']   # target 변수 diagnosis \n",
        "\n",
        "# 데이터셋을 학습(train)과 테스트(test) 세트로 분할\n",
        "\n",
        "X_train, X_test, y_train, y_test = train_test_split(X, y, test_size=0.25, random_state=77, stratify=y)\n",
        "\n",
        "tree = DecisionTreeClassifier(random_state=0)  \n",
        "tree.fit(X_train, y_train)\n",
        "print(\"학습용 데이터 정확도: {:.3f}\".format(tree.score(X_train, y_train)))\n",
        "print(\"시험용 데이터 정확도: {:.3f}\".format(tree.score(X_test, y_test)))"
      ],
      "metadata": {
        "colab": {
          "base_uri": "https://localhost:8080/"
        },
        "id": "7oDDhCwKTLCl",
        "outputId": "92702a4e-c220-4bcb-c09a-162d2d616071"
      },
      "execution_count": null,
      "outputs": [
        {
          "output_type": "stream",
          "name": "stdout",
          "text": [
            "학습용 데이터 정확도: 1.000\n",
            "시험용 데이터 정확도: 0.652\n"
          ]
        }
      ]
    },
    {
      "cell_type": "code",
      "source": [
        "# 의사결정나무의 깊이를 4로 제한했을 때 가장 높은 시험용 데이터 정확도를 보임.\n",
        "tree = DecisionTreeClassifier(max_depth=4, random_state=0)\n",
        "tree.fit(X_train, y_train)\n",
        "\n",
        "print(\"학습용 데이터 정확도: {:.3f}\".format(tree.score(X_train, y_train)))\n",
        "print(\"시험용 데이터 정확도: {:.3f}\".format(tree.score(X_test, y_test)))"
      ],
      "metadata": {
        "colab": {
          "base_uri": "https://localhost:8080/"
        },
        "id": "KilkUSFW4o2n",
        "outputId": "221d9689-5416-4ed6-8697-4f5b6cb87d54"
      },
      "execution_count": null,
      "outputs": [
        {
          "output_type": "stream",
          "name": "stdout",
          "text": [
            "학습용 데이터 정확도: 0.765\n",
            "시험용 데이터 정확도: 0.757\n"
          ]
        }
      ]
    },
    {
      "cell_type": "markdown",
      "source": [
        "##랜덤포레스트 만들기"
      ],
      "metadata": {
        "id": "45dyXIjC5Ddo"
      }
    },
    {
      "cell_type": "code",
      "source": [
        "from sklearn.ensemble import RandomForestClassifier\n",
        "\n",
        "forest = RandomForestClassifier(n_estimators=100, random_state=0)\n",
        "forest.fit(X_train, y_train)\n",
        "\n",
        "print(\"학습용 데이터 세트 정확도: {:.3f}\".format(forest.score(X_train, y_train)))\n",
        "print(\"시험용 데이터 세트 정확도: {:.3f}\".format(forest.score(X_test, y_test)))"
      ],
      "metadata": {
        "colab": {
          "base_uri": "https://localhost:8080/"
        },
        "id": "agI3styc5ftB",
        "outputId": "d41ba961-bd14-4fc0-fcb6-2376d9633b31"
      },
      "execution_count": null,
      "outputs": [
        {
          "output_type": "stream",
          "name": "stdout",
          "text": [
            "학습용 데이터 세트 정확도: 1.000\n",
            "시험용 데이터 세트 정확도: 0.757\n"
          ]
        }
      ]
    },
    {
      "cell_type": "markdown",
      "source": [
        "##의사결정나무와 랜덤포레스트 비교"
      ],
      "metadata": {
        "id": "_sqmVV5B9uZW"
      }
    },
    {
      "cell_type": "markdown",
      "source": [
        "###정확도 비교\n",
        "- 혈청크레아티닌과 같이 건강 지표는 오분류 했을 때의 비용이 크므로 오분류율을 줄이고 정확도를 높이는 것이 바람직한 분류 목적이다.\n",
        "- 정확도를 평가방법으로 라인그래프 비교한 결과, 10번의 교차 검증 모두에서 랜덤포레스트의 정확도가 더욱 높다."
      ],
      "metadata": {
        "id": "orlge5tqAng3"
      }
    },
    {
      "cell_type": "code",
      "source": [
        "from sklearn.model_selection import cross_val_score\n",
        "\n",
        "# 교차 검증을 10번 수행하여 10번의 교차 검증 평균 정확도를 비교 (10-fold cross validation)\n",
        "# default cv=5\n",
        "\n",
        "dt_scores = cross_val_score(tree, X_train, y_train, cv=10, scoring='accuracy')  \n",
        "rf_scores = cross_val_score(forest, X_train, y_train, cv=10, scoring='accuracy')\n",
        "\n",
        "print(\"Accuracy\")\n",
        "print(\"Decision tree: \", dt_scores) \n",
        "print(\"Random forest: \", rf_scores) \n",
        "\n",
        "print(\"Accuracy mean\")\n",
        "print(\"Decision tree :{:.3f}\".format(dt_scores.mean())) \n",
        "print(\"Random forest :{:.3f}\".format(rf_scores.mean())) "
      ],
      "metadata": {
        "colab": {
          "base_uri": "https://localhost:8080/"
        },
        "id": "swASxaiV9tf6",
        "outputId": "ba7f7484-1e4b-49df-e930-26f0162596f8"
      },
      "execution_count": null,
      "outputs": [
        {
          "output_type": "stream",
          "name": "stdout",
          "text": [
            "Accuracy\n",
            "Decision tree:  [0.63918919 0.66351351 0.63243243 0.63193505 0.64005413 0.70635995\n",
            " 0.70094723 0.67929635 0.65899865 0.67794317]\n",
            "Random forest:  [0.74864865 0.76081081 0.75135135 0.71989175 0.76589986 0.77131258\n",
            " 0.75913396 0.77537212 0.76860622 0.7564276 ]\n",
            "Accuracy mean\n",
            "Decision tree :0.663\n",
            "Random forest :0.758\n"
          ]
        }
      ]
    },
    {
      "cell_type": "code",
      "source": [
        "cv_list = [    \n",
        "            ['decision_tree',dt_scores],\n",
        "            ['random_forest',rf_scores],\n",
        "          ]\n",
        "df = pd.DataFrame.from_dict(dict(cv_list))\n",
        "df.plot()"
      ],
      "metadata": {
        "colab": {
          "base_uri": "https://localhost:8080/",
          "height": 392
        },
        "id": "3zMYnKKN99vW",
        "outputId": "6b0d523f-c404-4271-aedb-617fef0e219d"
      },
      "execution_count": null,
      "outputs": [
        {
          "output_type": "execute_result",
          "data": {
            "text/plain": [
              "<matplotlib.axes._subplots.AxesSubplot at 0x7fc89bc33fd0>"
            ]
          },
          "metadata": {},
          "execution_count": 99
        },
        {
          "output_type": "display_data",
          "data": {
            "text/plain": [
              "<Figure size 648x432 with 1 Axes>"
            ],
            "image/png": "[encoded data removed]"
          },
          "metadata": {
            "needs_background": "light"
          }
        }
      ]
    },
    {
      "cell_type": "markdown",
      "source": [
        "##인사이트 도출\n"
      ],
      "metadata": {
        "id": "vB1HihN55OVf"
      }
    },
    {
      "cell_type": "markdown",
      "source": [
        "###중요 변수 설명\n",
        "두 개 분류모델 분석을 바탕으로 혈청크레아티닌 수치에는 성별변수가 가장 주요하게 작용함을 확인할 수 있다."
      ],
      "metadata": {
        "id": "qzBvO-AR5beC"
      }
    },
    {
      "cell_type": "code",
      "source": [
        "#의사결정나무\n",
        "result = tree.feature_importances_\n",
        "print(\"변수의 중요도:\\n\", result)"
      ],
      "metadata": {
        "colab": {
          "base_uri": "https://localhost:8080/"
        },
        "id": "-3m6LN0J6FWO",
        "outputId": "77fbf1ba-91ea-449c-8913-ee015000f51e"
      },
      "execution_count": null,
      "outputs": [
        {
          "output_type": "stream",
          "name": "stdout",
          "text": [
            "변수의 중요도:\n",
            " [0.00577021 0.01946939 0.         0.         0.         0.\n",
            " 0.         0.         0.         0.00237439 0.00189323 0.02070891\n",
            " 0.01149431 0.         0.         0.00293224 0.01095397 0.00588365\n",
            " 0.91851971 0.         0.         0.         0.         0.\n",
            " 0.        ]\n"
          ]
        }
      ]
    },
    {
      "cell_type": "code",
      "source": [
        "#랜덤포레스트\n",
        "result = forest.feature_importances_\n",
        "print(\"변수의 중요도:\\n\", result)"
      ],
      "metadata": {
        "colab": {
          "base_uri": "https://localhost:8080/"
        },
        "id": "kniE1U6K9Z5R",
        "outputId": "9fae7687-e4ac-4dfc-ed06-6c7327b22c0b"
      },
      "execution_count": null,
      "outputs": [
        {
          "output_type": "stream",
          "name": "stdout",
          "text": [
            "변수의 중요도:\n",
            " [0.0420896  0.03670348 0.05768657 0.04043471 0.06347604 0.03751791\n",
            " 0.03701256 0.00303278 0.00356361 0.05902993 0.05504484 0.06196029\n",
            " 0.07810572 0.00720235 0.05430027 0.054097   0.06536334 0.01114488\n",
            " 0.08096643 0.09780357 0.01864115 0.01150377 0.00737791 0.00793218\n",
            " 0.00800912]\n"
          ]
        }
      ]
    }
  ]
}